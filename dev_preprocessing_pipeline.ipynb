{
 "cells": [
  {
   "cell_type": "code",
   "execution_count": 1,
   "id": "129f6d7e",
   "metadata": {},
   "outputs": [],
   "source": [
    "import pandas as pd\n",
    "from sklearn.preprocessing import LabelEncoder, OrdinalEncoder, OneHotEncoder\n",
    "from sklearn.model_selection import train_test_split"
   ]
  },
  {
   "cell_type": "code",
   "execution_count": 2,
   "id": "120e4e79",
   "metadata": {},
   "outputs": [],
   "source": [
    "# download dataset from uci\n",
    "url_data = 'https://archive.ics.uci.edu/ml/machine-learning-databases/adult/adult.data'\n",
    "url_test = 'https://archive.ics.uci.edu/ml/machine-learning-databases/adult/adult.test'\n",
    "nan_token = ' ?'\n",
    "# we must specify:\n",
    "#     'task':'classification' or 'regression'\n",
    "#     'cat_features':list of the categorical features,\n",
    "#     'cont_features':list of the continuous features,\n",
    "#     'data':data (features x, not including target),\n",
    "#     'target':target (y),\n",
    "#     'test_data':if there is a default data for test, None otherwise,\n",
    "#     'test_target':if there is a default data for test, None otherwise\n",
    "adult = {\n",
    "    'task':'classification',\n",
    "    'cat_features':[1, 3, 5, 6, 7, 8, 9, 13],\n",
    "    'cont_features':[0, 2, 4, 10, 11, 12],\n",
    "    'data':pd.read_csv(url_data, header=None, na_values=nan_token).iloc[:,0:-1],\n",
    "    'target':pd.read_csv(url_data, header=None, na_values=nan_token).iloc[:,-1],\n",
    "    'test_data':pd.read_csv(url_test, header=None, skiprows=1, na_values=nan_token).iloc[:,0:-1],\n",
    "    'test_target':pd.read_csv(url_test, header=None, skiprows=1, na_values=nan_token).iloc[:,-1]\n",
    "}"
   ]
  },
  {
   "cell_type": "code",
   "execution_count": 3,
   "id": "07c7cd8e",
   "metadata": {},
   "outputs": [],
   "source": [
    "def preprocess_dataset(dataset, categorical_encoding='label', categorical_type='category'):\n",
    "    # if there is no default test data\n",
    "    if dataset['test_data'] is None:\n",
    "        X_train, X_test, y_train, y_test = train_test_split(dataset['data'], dataset['target'], test_size=0.25)\n",
    "        dataset['data'] = X_train\n",
    "        dataset['target'] = y_train\n",
    "        dataset['test_data'] = X_test\n",
    "        dataset['test_target'] = y_test\n",
    "\n",
    "    # label encoding for classification task, float for regression\n",
    "    if dataset['task'] == 'classification':\n",
    "        label_encoder = LabelEncoder()\n",
    "        dataset['label_encoder'] = label_encoder\n",
    "        dataset['target_processed'] = label_encoder.fit_transform(dataset['target'])\n",
    "        dataset['test_target_processed'] = label_encoder.transform(dataset['test_target'])\n",
    "    else:\n",
    "        dataset['label_encoder'] = None\n",
    "        dataset['target_processed'] = dataset['target'].astype('float')\n",
    "        dataset['test_target_processed'] = dataset['test_target'].astype('float')\n",
    "    # encodes categorical data\n",
    "    if categorical_encoding == 'label':\n",
    "    # order of columns is preserved\n",
    "        encoder = OrdinalEncoder(encoded_missing_value=-1)\n",
    "        dataset['encoder'] = encoder\n",
    "        dataset['data'].iloc[:,dataset['cat_features']] = encoder.fit_transform(\n",
    "            dataset['data'].iloc[:,dataset['cat_features']])\n",
    "        dataset['test_data'].iloc[:,dataset['cat_features']] = encoder.transform(\n",
    "            dataset['test_data'].iloc[:,dataset['cat_features']])\n",
    "    if categorical_encoding == 'one_hot':\n",
    "    # in the case of the one hot encoding we will first have the continuous columns and after the categorical\n",
    "    # (one hot encoded)\n",
    "        encoder = OneHotEncoder(drop='if_binary',sparse=False) # Nan is treated as another category (extra column)\n",
    "        dataset['encoder'] = encoder\n",
    "        dataset['data'] = (dataset['data'].iloc[:,dataset['cont_features']]\n",
    "                           .join(pd.DataFrame(encoder.fit_transform(dataset['data'].iloc[:,dataset['cat_features']]))))\n",
    "        dataset['test_data'] = (dataset['test_data'].iloc[:,dataset['cont_features']]\n",
    "                                .join(pd.DataFrame(encoder.transform(dataset['test_data'].\n",
    "                                                                     iloc[:,dataset['cat_features']]))))\n",
    "        dataset['cont_features'] = [i for i in range(len(dataset['cont_features']))]\n",
    "        dataset['cat_features'] = [i for i in range(len(dataset['cont_features']),dataset['data'].shape[1])]\n",
    "\n",
    "    # continuous features as float and categorical features as category\n",
    "    dataset['data'].iloc[:,dataset['cat_features']] = (dataset['data'].iloc[:,dataset['cat_features']]\n",
    "                                                       .astype(categorical_type))\n",
    "    dataset['test_data'].iloc[:,dataset['cat_features']] = (dataset['test_data'].iloc[:,dataset['cat_features']]\n",
    "                                                            .astype(categorical_type))\n",
    "\n",
    "    dataset['data'].iloc[:,dataset['cont_features']] = (dataset['data'].iloc[:,dataset['cont_features']]\n",
    "                                                        .astype('float'))\n",
    "    dataset['test_data'].iloc[:,dataset['cont_features']] = (dataset['test_data'].iloc[:,dataset['cont_features']]\n",
    "                                                             .astype('float'))\n",
    "    return dataset"
   ]
  },
  {
   "cell_type": "code",
   "execution_count": 4,
   "id": "3e8cdb88",
   "metadata": {},
   "outputs": [],
   "source": [
    "adult = preprocess_dataset(adult, 'label')"
   ]
  },
  {
   "cell_type": "code",
   "execution_count": 10,
   "id": "482c86ec",
   "metadata": {},
   "outputs": [],
   "source": [
    "dataset = adult\n",
    "categorical_encoding = 'label' # one_hot or label"
   ]
  },
  {
   "cell_type": "code",
   "execution_count": 11,
   "id": "eb9928ed",
   "metadata": {},
   "outputs": [],
   "source": [
    "# if there is no default test data\n",
    "if dataset['test_data'] is None:\n",
    "    X_train, X_test, y_train, y_test = train_test_split(dataset['data'], dataset['target'], test_size=0.25)\n",
    "    dataset['data'] = X_train\n",
    "    dataset['target'] = y_train\n",
    "    dataset['test_data'] = X_test\n",
    "    dataset['test_target'] = y_test"
   ]
  },
  {
   "cell_type": "code",
   "execution_count": 12,
   "id": "58f447fe",
   "metadata": {},
   "outputs": [],
   "source": [
    "# label encoding for classification task, float for regression\n",
    "if dataset['task'] == 'classification':\n",
    "    label_encoder = LabelEncoder()\n",
    "    dataset['label_encoder'] = label_encoder\n",
    "    dataset['target_processed'] = label_encoder.fit_transform(dataset['target'])\n",
    "else:\n",
    "    dataset['label_encoder'] = None\n",
    "    dataset['target_processed'] = dataset['target'].astype('float')"
   ]
  },
  {
   "cell_type": "code",
   "execution_count": 13,
   "id": "9bfce007",
   "metadata": {},
   "outputs": [],
   "source": [
    "# encodes categorical data\n",
    "if categorical_encoding == 'label':\n",
    "# order of columns is preserved\n",
    "    encoder = OrdinalEncoder(encoded_missing_value=-1)\n",
    "    dataset['encoder'] = encoder\n",
    "    dataset['data'].iloc[:,dataset['cat_features']] = encoder.fit_transform(\n",
    "        dataset['data'].iloc[:,dataset['cat_features']])\n",
    "    dataset['test_data'].iloc[:,dataset['cat_features']] = encoder.transform(\n",
    "        dataset['test_data'].iloc[:,dataset['cat_features']])\n",
    "if categorical_encoding == 'one_hot':\n",
    "# in the case of the one hot encoding we will first have the continuous columns and after the categorical (one hot encoded)\n",
    "    encoder = OneHotEncoder(drop='if_binary',sparse=False) # Nan is treated as another category (extra column)\n",
    "    dataset['encoder'] = encoder\n",
    "    dataset['data'] = (dataset['data'].iloc[:,dataset['cont_features']]\n",
    "                       .join(pd.DataFrame(encoder.fit_transform(dataset['data'].iloc[:,dataset['cat_features']]))))\n",
    "    dataset['test_data'] = (dataset['test_data'].iloc[:,dataset['cont_features']]\n",
    "                            .join(pd.DataFrame(encoder.transform(dataset['test_data'].iloc[:,dataset['cat_features']]))))\n",
    "    dataset['cont_features'] = [i for i in range(len(dataset['cont_features']))]\n",
    "    dataset['cat_features'] = [i for i in range(len(dataset['cont_features']),dataset['data'].shape[1])]"
   ]
  },
  {
   "cell_type": "code",
   "execution_count": 14,
   "id": "b1d63ae3",
   "metadata": {},
   "outputs": [],
   "source": [
    "# continuous features as float and categorical features as category\n",
    "dataset['data'].iloc[:,dataset['cat_features']] = (dataset['data'].iloc[:,dataset['cat_features']]\n",
    "                                                   .astype('category'))\n",
    "dataset['test_data'].iloc[:,dataset['cat_features']] = (dataset['test_data'].iloc[:,dataset['cat_features']]\n",
    "                                                        .astype('category'))\n",
    "\n",
    "dataset['data'].iloc[:,dataset['cont_features']] = (dataset['data'].iloc[:,dataset['cont_features']]\n",
    "                                                    .astype('float'))\n",
    "dataset['test_data'].iloc[:,dataset['cont_features']] = (dataset['test_data'].iloc[:,dataset['cont_features']]\n",
    "                                                         .astype('float'))"
   ]
  },
  {
   "cell_type": "code",
   "execution_count": null,
   "id": "42e01f5b",
   "metadata": {},
   "outputs": [],
   "source": []
  }
 ],
 "metadata": {
  "kernelspec": {
   "display_name": "Python 3 (ipykernel)",
   "language": "python",
   "name": "python3"
  },
  "language_info": {
   "codemirror_mode": {
    "name": "ipython",
    "version": 3
   },
   "file_extension": ".py",
   "mimetype": "text/x-python",
   "name": "python",
   "nbconvert_exporter": "python",
   "pygments_lexer": "ipython3",
   "version": "3.10.5"
  }
 },
 "nbformat": 4,
 "nbformat_minor": 5
}
